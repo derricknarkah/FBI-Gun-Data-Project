{
 "cells": [
  {
   "cell_type": "markdown",
   "metadata": {},
   "source": [
    "\n",
    "# Project: FBI Gun Data Analysis\n",
    "\n",
    "## Table of Contents\n",
    "<ul>\n",
    "<li><a href=\"#intro\">Introduction</a></li>\n",
    "<li><a href=\"#wrangling\">Data Wrangling</a></li>\n",
    "<li><a href=\"#eda\">Exploratory Data Analysis</a></li>\n",
    "<li><a href=\"#conclusions\">Conclusions</a></li>\n",
    "</ul>"
   ]
  },
  {
   "cell_type": "markdown",
   "metadata": {},
   "source": [
    "<a id='intro'></a>\n",
    "## Introduction\n",
    "\n",
    "> For this project, I have chosen the data from the FBI's National Instant Criminal Background Check System (NICS) and the U.S Census Data. The NICS is used to determine whether a prospective buyer is eligible to buy firearms or explosives. The statistics in this dataset originally represent the number of firearm background checks initiated through the NICS. They do not represent the number of firearms sold. HOWEVER, ACCORDING TO \"The Trace (2015), THE FBI'S NICS NUMBERS ARE WIDELY ACCEPTED AS THE BEST PROXY FOR TOTAL GUN SALES IN A GIVEN TIME PERIOD. All analysis that will be carried out with this dataset will be considered related to Gun Sales.\n",
    "\n",
    ">The U.S Census Data is also to provide demographic data about the U.S States. Statistics from this dataset will be referenced in this project for more insight.\n",
    "\n",
    ">I aim to answer four (4) questions as I Investigate this dataset.\n",
    ">1. What is the trend of Gun Sales across the U.S States?\n",
    ">2. Can the Per Capita Income of a State reveal how guns are Purchased?\n",
    ">3. Are the number of veterans in a State indicative of guns in the state?\n",
    ">4. What is the Race distribution of the State with the highest number of Guns"
   ]
  },
  {
   "cell_type": "code",
   "execution_count": null,
   "metadata": {},
   "outputs": [],
   "source": [
    "# Importing all packages to be used in the project.\n",
    "\n",
    "import pandas as pd\n",
    "import numpy as np\n",
    "import matplotlib.pyplot as plt\n",
    "import seaborn as sns\n",
    "%matplotlib inline"
   ]
  },
  {
   "cell_type": "markdown",
   "metadata": {},
   "source": [
    "<a id='wrangling'></a>\n",
    "## Data Wrangling\n",
    "\n",
    "> In this section of the project, the datasets will be loaded. The structure will be noted and inspected for the need for any cleaning.\n",
    "\n",
    "### General Properties"
   ]
  },
  {
   "cell_type": "markdown",
   "metadata": {},
   "source": [
    "> **FBI Gun Data will be read into a dataframe(df_gun) and U.S Census Data will be read into another dataframe(df_census). The first 5 data entries in each dataframe is displayed to have an idea of the structure.**"
   ]
  },
  {
   "cell_type": "code",
   "execution_count": null,
   "metadata": {},
   "outputs": [],
   "source": [
    "df_gun = pd.read_excel('gun_data.xlsx')\n",
    "df_census = pd.read_csv('U.S. Census Data.csv')"
   ]
  },
  {
   "cell_type": "code",
   "execution_count": null,
   "metadata": {},
   "outputs": [],
   "source": [
    "df_gun.head()"
   ]
  },
  {
   "cell_type": "code",
   "execution_count": null,
   "metadata": {},
   "outputs": [],
   "source": [
    "df_census.head()"
   ]
  },
  {
   "cell_type": "markdown",
   "metadata": {},
   "source": [
    ">**The total number of rows and columns is revealed for both dataframes with the .shape() method and the .info() is also used to inspect for the datatypes, the columns and any missing values. By doing these, I start to identify which rows and columns will be necessary.**"
   ]
  },
  {
   "cell_type": "code",
   "execution_count": null,
   "metadata": {},
   "outputs": [],
   "source": [
    "# Finding out the total rows and columns in the gun_data dataset\n",
    "df_gun.shape"
   ]
  },
  {
   "cell_type": "code",
   "execution_count": null,
   "metadata": {},
   "outputs": [],
   "source": [
    "# Finding out the total rows and columns in the U.S Census Data dataset\n",
    "df_census.shape"
   ]
  },
  {
   "cell_type": "code",
   "execution_count": null,
   "metadata": {},
   "outputs": [],
   "source": [
    "# Dataset information for gun_data\n",
    "df_gun.info()"
   ]
  },
  {
   "cell_type": "code",
   "execution_count": null,
   "metadata": {},
   "outputs": [],
   "source": [
    "# Dataset information for census data\n",
    "df_census.info()"
   ]
  },
  {
   "cell_type": "markdown",
   "metadata": {},
   "source": [
    ">**df_gun has 12485 rows made up of each month from September 2017 to November 1998. The 27 columns have data on the kind of guns or permits called in for check.**\n",
    ">**df_census has 85 rows of varied demographic into and 52 columns of the States. Most of the datatypes are string which is quite strange for a census data. This will be explore more.**"
   ]
  },
  {
   "cell_type": "markdown",
   "metadata": {},
   "source": [
    "> As mentioned in the introduction, the statistics in the FBI's NICS represent the number of firearm background checks intiated and not necessarily the firearms sold BUT these numbers have been widely accepted as the best proxy for total gun sales in a given period.\n",
    "> When the New York Times analyzed NICS data in Dec. 2015, it included this methodology note:\n",
    "> Sales estimates are calculated from handgun, long gun and multiple-gun background checks. Permit checks and other categories of background checks are excluded.\n",
    "\n",
    "> For this project, the Sales estimates will be calculated from handgun, long gun and other since these three (3) columns give of all types of firearm. The multiple-gun will be excluded since it is just indicative of checks involving more than one fire arm. The other categories(columns) will also be excluded.\n",
    "\n",
    "### Data Cleaning (FBI Gun Data - df_gun)"
   ]
  },
  {
   "cell_type": "code",
   "execution_count": null,
   "metadata": {},
   "outputs": [],
   "source": [
    "# Creating a list of columns which will not be needed and dropping them.\n",
    "\n",
    "non_essential_columns = ['permit', 'permit_recheck','admin','prepawn_handgun','prepawn_long_gun',\n",
    "                        'prepawn_other','redemption_handgun','redemption_long_gun','redemption_other',\n",
    "                        'returned_handgun','returned_long_gun','returned_other','rentals_handgun',\n",
    "                        'rentals_long_gun','private_sale_handgun','private_sale_long_gun',\n",
    "                        'private_sale_other','return_to_seller_handgun','return_to_seller_long_gun',\n",
    "                         'return_to_seller_other']\n",
    "df_gun.drop(non_essential_columns, axis=1, inplace=True)"
   ]
  },
  {
   "cell_type": "code",
   "execution_count": null,
   "metadata": {},
   "outputs": [],
   "source": [
    "# Confirm the columns in the list above have been dropped.\n",
    "df_gun.head()"
   ]
  },
  {
   "cell_type": "code",
   "execution_count": null,
   "metadata": {},
   "outputs": [],
   "source": [
    "# Since most of the data in the U.S Census Data is referenced to the year 2016,\n",
    "# This dataset will also be limited to the year 2016 for more accurate analysis\n",
    "# All rows of data for years other than 2016 will be dropped\n",
    "\n",
    "df_gun.drop(df_gun.index[df_gun['month'].str.contains(\"2016\")==False], inplace=True)"
   ]
  },
  {
   "cell_type": "code",
   "execution_count": null,
   "metadata": {
    "scrolled": true
   },
   "outputs": [],
   "source": [
    "#Confirm the rows have been dropped.\n",
    "df_gun.head()"
   ]
  },
  {
   "cell_type": "code",
   "execution_count": null,
   "metadata": {},
   "outputs": [],
   "source": [
    "# To have one row of data for each State, the dataset is grouped by state and all values for each\n",
    "# state is summed up \n",
    "\n",
    "df_gun = df_gun.groupby(['state'], as_index=False).sum()"
   ]
  },
  {
   "cell_type": "code",
   "execution_count": null,
   "metadata": {},
   "outputs": [],
   "source": [
    "# Confirming the sum of values have been made according to the states\n",
    "df_gun.head()"
   ]
  },
  {
   "cell_type": "code",
   "execution_count": null,
   "metadata": {},
   "outputs": [],
   "source": [
    "# Checking number of rows to give an idea of the number of states.\n",
    "df_gun.shape"
   ]
  },
  {
   "cell_type": "code",
   "execution_count": null,
   "metadata": {},
   "outputs": [],
   "source": [
    "# The rows are 55, which is more than the known 50 Federal Republic States.\n",
    "# Checking for any duplicated States\n",
    "df_gun.duplicated().sum()"
   ]
  },
  {
   "cell_type": "markdown",
   "metadata": {},
   "source": [
    ">**The df_gun has been reduced to 6 columns (state, handgun, long_gun, other, multiple, totals). No data entry has been changed yet. The expected number of rows was 51 to correspond with the 50 Federeal States of the USA but it has turned out to be more. Probably some territories have been added. This will be dropped later after cleaning df_census.**"
   ]
  },
  {
   "cell_type": "markdown",
   "metadata": {},
   "source": [
    "> As Seen in the display of general properties, the US Census Data has information about each state as well with about 80 different fields. To answer the questions set at the beginning of the project, some rows will be dropped. Only rows relevant to the projects research questions will be kept.\n",
    "\n",
    ">Also, in this dataset, the states appear as the columns rather. This will be transposed to fit the same structure as the df_gun(states are the rows) for easier merging of the two datasets\n",
    "\n",
    ">The new column names will be changed as they are too long and will make subsequent codes more difficult. Each column name will be changed to lowercase and underscores used to seperate multiple words.\n",
    "\n",
    "### Data Cleaning (US Census Data - df_census)"
   ]
  },
  {
   "cell_type": "code",
   "execution_count": null,
   "metadata": {},
   "outputs": [],
   "source": [
    "# Rows that will be essential in answering the research questions = [0, 12, 13, 14, 15, 16, 20, 48]\n",
    "# Extracting these rows out of the lot\n",
    "df_census = df_census.loc[[0, 12, 13, 14, 15, 16, 20, 48],:]"
   ]
  },
  {
   "cell_type": "code",
   "execution_count": null,
   "metadata": {},
   "outputs": [],
   "source": [
    "# Confirming the essential rows have been extracted\n",
    "df_census"
   ]
  },
  {
   "cell_type": "code",
   "execution_count": null,
   "metadata": {},
   "outputs": [],
   "source": [
    "# This column was added to provided extra information on the rows\n",
    "# Dropping the 'Fact Note' column\n",
    "df_census.drop('Fact Note', axis=1, level=None, inplace=True)"
   ]
  },
  {
   "cell_type": "code",
   "execution_count": null,
   "metadata": {},
   "outputs": [],
   "source": [
    "# Setting Fact Column as Index\n",
    "df_census = df_census.set_index('Fact')"
   ]
  },
  {
   "cell_type": "code",
   "execution_count": null,
   "metadata": {},
   "outputs": [],
   "source": [
    "# Transposing the dataset to have the same the states as rows rather than columns\n",
    "# Similar to df_gun dataset.\n",
    "df_census = df_census.transpose()"
   ]
  },
  {
   "cell_type": "code",
   "execution_count": null,
   "metadata": {},
   "outputs": [],
   "source": [
    "# Reseting indexes\n",
    "df_census.reset_index(inplace=True)"
   ]
  },
  {
   "cell_type": "code",
   "execution_count": null,
   "metadata": {},
   "outputs": [],
   "source": [
    "# Confirming the drop,transpose and index reset\n",
    "df_census.head()"
   ]
  },
  {
   "cell_type": "code",
   "execution_count": null,
   "metadata": {},
   "outputs": [],
   "source": [
    "# Assigning the state label to have the same label in df_gun\n",
    "df_census = df_census.rename(columns = {'index':'state'})"
   ]
  },
  {
   "cell_type": "code",
   "execution_count": null,
   "metadata": {},
   "outputs": [],
   "source": [
    "df_census.head()"
   ]
  },
  {
   "cell_type": "markdown",
   "metadata": {},
   "source": [
    ">**The essential rows in df_census have been extracted, 'Fact Note' Column dropped and the dataset transposed so we have the same structure with df_gun. The states are now common with df_gun.**"
   ]
  },
  {
   "cell_type": "markdown",
   "metadata": {},
   "source": [
    "> Now that both df_gun and df_census are similar in structure, they will be merged to form a new dataframe df_merged\n",
    "\n",
    ">The column names of df_merged will be simplified to lower_case and the datatypes changed to help in analysis. As mentioned earlier, most of the datatypes from the US Census Data were string. They are better as int and floats for computations sake.\n",
    "\n",
    ">One Column has \"Z\" in the entries, according to the Fact Notes of the original US Census dataset, this Z signified value greater than zero but less than half unit of measure. The other entries in that column are very small and so this \"Z\" in reality is almost 0. \n",
    "\n",
    "### Data Cleaning (New Dataframe Consisting of both df_gun & df_census)"
   ]
  },
  {
   "cell_type": "code",
   "execution_count": null,
   "metadata": {},
   "outputs": [],
   "source": [
    "# Merging of df_gun and df_census on the state column.\n",
    "# Inner Join is used so df_merged will have only states common to both df_gun & df_census\n",
    "\n",
    "df_merged=df_gun.merge(df_census, left_on='state', right_on='state', how='inner')"
   ]
  },
  {
   "cell_type": "code",
   "execution_count": null,
   "metadata": {},
   "outputs": [],
   "source": [
    "# Renaming of column headers to make them easy to call \n",
    "df_merged.rename(columns = {'Population estimates, July 1, 2016,  (V2016)':'population_estimates',\n",
    "                 'White alone, percent, July 1, 2016,  (V2016)':'white',\n",
    "                'Black or African American alone, percent, July 1, 2016,  (V2016)':'black_or_african_american',\n",
    "                'American Indian and Alaska Native alone, percent, July 1, 2016,  (V2016)':'native_american',\n",
    "                'Asian alone, percent, July 1, 2016,  (V2016)':'asian',\n",
    "                 'Native Hawaiian and Other Pacific Islander alone, percent, July 1, 2016,  (V2016)':\n",
    "                 'hawaiian_or_islanders','Veterans, 2011-2015':'veterans_11_15',\n",
    "                 'Per capita income in past 12 months (in 2015 dollars), 2011-2015':'per_capita_income_11_15'},\n",
    "                inplace=True)\n",
    "df_merged.head(0)"
   ]
  },
  {
   "cell_type": "code",
   "execution_count": null,
   "metadata": {},
   "outputs": [],
   "source": [
    "# Confirming the merging and renaming of columns has worked.\n",
    "df_merged.head()"
   ]
  },
  {
   "cell_type": "code",
   "execution_count": null,
   "metadata": {},
   "outputs": [],
   "source": [
    "#Checking the properties of df_merged\n",
    "df_merged.info()"
   ]
  },
  {
   "cell_type": "code",
   "execution_count": null,
   "metadata": {},
   "outputs": [],
   "source": [
    "# The following columns (handgun,long_gun and other) represent a count of the various types of gun\n",
    "# and so the datatype will be changed to int\n",
    "# Changing the datatype to int\n",
    "df_merged = df_merged.astype({'handgun':'int64','long_gun':'int64','other':'int64'})"
   ]
  },
  {
   "cell_type": "code",
   "execution_count": null,
   "metadata": {},
   "outputs": [],
   "source": [
    "# The following are stored as object but need to be changed to float as they represent percentages\n",
    "# Changing the datatypes to float.\n",
    "\n",
    "df_merged['white'] = df_merged['white'].str.rstrip(\"%\").astype(float).round(2);\n",
    "df_merged['black_or_african_american'] = df_merged['black_or_african_american'].str.rstrip(\"%\").astype(float).round(2);\n",
    "df_merged['native_american'] = df_merged['native_american'].str.rstrip(\"%\").astype(float).round(2);\n",
    "df_merged['asian'] = df_merged['asian'].str.rstrip(\"%\").astype(float).round(2);"
   ]
  },
  {
   "cell_type": "code",
   "execution_count": null,
   "metadata": {},
   "outputs": [],
   "source": [
    "# The following are stored as object but need to be changed to int as dey represent counts\n",
    "# Changing to datatypes to int\n",
    "\n",
    "df_merged['veterans_11_15'] = df_merged['veterans_11_15'].str.replace(',','').astype(int);\n",
    "df_merged['population_estimates'] = df_merged['population_estimates'].str.replace(',','').astype(int);"
   ]
  },
  {
   "cell_type": "code",
   "execution_count": null,
   "metadata": {},
   "outputs": [],
   "source": [
    "# The per_capita_income_11_15 is a currency value and needs to be changed to float for computations.\n",
    "# Stripping the extra characters and changing datatype to float\n",
    "\n",
    "df_merged['per_capita_income_11_15'] = df_merged['per_capita_income_11_15'].str.strip();\n",
    "df_merged['per_capita_income_11_15'] = df_merged['per_capita_income_11_15'].str.strip(\"$\");\n",
    "df_merged['per_capita_income_11_15'] = df_merged['per_capita_income_11_15'].str.replace(',','').astype(float);"
   ]
  },
  {
   "cell_type": "code",
   "execution_count": null,
   "metadata": {},
   "outputs": [],
   "source": [
    "# Identifying the index of all data entries with \"Z\"\n",
    "df_merged.index[df_merged['hawaiian_or_islanders'] =='Z'].tolist()"
   ]
  },
  {
   "cell_type": "code",
   "execution_count": null,
   "metadata": {},
   "outputs": [],
   "source": [
    "# Replacing all 'Z' with 0 as explained in the previous Markdown.\n",
    "# Changing the datatype to float\n",
    "\n",
    "df_merged.at[18,'hawaiian_or_islanders']=0\n",
    "df_merged.at[21,'hawaiian_or_islanders']=0\n",
    "df_merged.at[44,'hawaiian_or_islanders']=0\n",
    "df_merged.at[47,'hawaiian_or_islanders']=0\n",
    "df_merged['hawaiian_or_islanders'] = df_merged['hawaiian_or_islanders'].str.strip(\"%\").astype(float);"
   ]
  },
  {
   "cell_type": "code",
   "execution_count": null,
   "metadata": {},
   "outputs": [],
   "source": [
    "# Ooops, Almost forgot the totals column has to be computed right.\n",
    "# The totals column will be the sum of handgun, long_gun and others. This is the total firearm\n",
    "\n",
    "df_merged['totals'] = df_merged.iloc[:,1:3].sum(axis=1)"
   ]
  },
  {
   "cell_type": "markdown",
   "metadata": {},
   "source": [
    ">**The new dataframe df_merged has been cleaned and is read to be analysed and the research questions answered.**"
   ]
  },
  {
   "cell_type": "markdown",
   "metadata": {},
   "source": [
    "<a id='eda'></a>\n",
    "## Exploratory Data Analysis\n",
    "\n",
    ">Here we go with the visualizations and answers to the research questions !!\n",
    "\n",
    "### Research Question 1\n",
    "### (What is the Trend of Gun Sales across the U.S States?)"
   ]
  },
  {
   "cell_type": "code",
   "execution_count": null,
   "metadata": {},
   "outputs": [],
   "source": [
    "#handgun,long_gun & others\n",
    "#ax=df_merged.plot(x='state', y='handgun', kind='bar', title='Number of Checks by State', figsize=(16,10))\n",
    "#df_merged.plot(x='state', y='long_gun', kind='bar', ax=ax, title='Number of Checks by State', figsize=(16,10), color='red')\n",
    "#df_merged.plot(x='state', y='other', kind='bar', ax=ax, title='Number of Checks by State', figsize=(16,10), color='green')\n",
    "\n",
    "#plt.xlabel('States')\n",
    "#plt.ylabel('Number of Checks')"
   ]
  },
  {
   "cell_type": "markdown",
   "metadata": {},
   "source": [
    ">**This question requires we see each states gun sales.**\n",
    "\n",
    ">**We plot a bar graph of 'totals' against the 'state'.**"
   ]
  },
  {
   "cell_type": "code",
   "execution_count": null,
   "metadata": {},
   "outputs": [],
   "source": [
    "#Plotting a bar graph of US States and Total Gun Sales\n",
    "df_merged.plot(x='state', y='totals', kind='bar', title='Gun Sales', figsize=(16,10), color='brown')"
   ]
  },
  {
   "cell_type": "markdown",
   "metadata": {},
   "source": [
    ">Interesting things to note about this plot.\n",
    "\n",
    ">1. Hawaii has no Gun Sales. (No calls to check the NICS)\n",
    "\n",
    ">2. Texas and California States competing for the highest Gun Sales."
   ]
  },
  {
   "cell_type": "markdown",
   "metadata": {},
   "source": [
    "> The above plot shows the Total Gun Sales of the US States. However, the States are not of the same size in terms of population. The next plot is just to show the trend of Gun Sales with respect to the number of people in the State. "
   ]
  },
  {
   "cell_type": "code",
   "execution_count": null,
   "metadata": {},
   "outputs": [],
   "source": []
  },
  {
   "cell_type": "code",
   "execution_count": null,
   "metadata": {},
   "outputs": [],
   "source": []
  },
  {
   "cell_type": "code",
   "execution_count": null,
   "metadata": {},
   "outputs": [],
   "source": [
    "\n"
   ]
  },
  {
   "cell_type": "code",
   "execution_count": null,
   "metadata": {},
   "outputs": [],
   "source": [
    "# This computation is to show the Gun Sales with respect to the Population of each state\n",
    "# It represents the proportion of the population who have contributed to the gun sales\n",
    "\n",
    "df_merged['gun_per_population'] = df_merged['totals']/df_merged['population_estimates']\n",
    "df_merged.plot(x='state', y='gun_per_population', kind='bar', title='Guns Per Population', figsize=(16,10), color='blue')"
   ]
  },
  {
   "cell_type": "markdown",
   "metadata": {},
   "source": [
    "> The graph changes once we consider the population. 10% of people in Alaska have contributed to the Gun Sales whereas 4% of people in Texas have done same."
   ]
  },
  {
   "cell_type": "markdown",
   "metadata": {},
   "source": [
    "### Research Question 2  \n",
    "### (Can the Per Capita Income of a State reveal how Guns are Purchased ?)"
   ]
  },
  {
   "cell_type": "markdown",
   "metadata": {},
   "source": [
    ">**Since guns arent cheap, it is easy to assume a certain economic state will have to be attained before they can be bought. This question requires we find a way to plot the per capita income and total gun sales to be able to make an inference**"
   ]
  },
  {
   "cell_type": "code",
   "execution_count": null,
   "metadata": {},
   "outputs": [],
   "source": [
    "# Using seaborn, we plot a scatterplot and differentiate the markers using the total sale so that\n",
    "# the states with bigger total sales will actually look bigger and darker in colour.\n",
    "# Then we can tell the per_capita_income of these states\n",
    "\n",
    "plt.figure(figsize=(16,10))\n",
    "plt.grid(True)\n",
    "plt.ylim()\n",
    "sns.scatterplot(data=df_merged, x='per_capita_income_11_15', y='totals',\n",
    "                size='totals', sizes=(20,1000), hue='totals')"
   ]
  },
  {
   "cell_type": "markdown",
   "metadata": {},
   "source": [
    ">As can be infered from the scatter plot, higher per capita income doesn't necessarily mean more gun sales. The states with the most gun sales(bigger markers) ended up in the median per capital income range. "
   ]
  },
  {
   "cell_type": "markdown",
   "metadata": {},
   "source": [
    "### Research Question 3  \n",
    "### (Are the veterans living in a state indicative of the guns purchases?)"
   ]
  },
  {
   "cell_type": "markdown",
   "metadata": {},
   "source": [
    ">**For this question, it is best to plot the state against the total guns on the same bar as number of veterans."
   ]
  },
  {
   "cell_type": "code",
   "execution_count": null,
   "metadata": {},
   "outputs": [],
   "source": [
    "ax=df_merged.plot(x='state', y='veterans_11_15', kind='bar', title='Gun Sales  & Number of Veterans by State',\n",
    "               figsize=(16,10), color ='yellow', alpha=0.5)\n",
    "df_merged.plot(x='state', y='totals', kind='bar', title='Number of Checks by State', ax=ax, figsize=(16,10),alpha=0.7)\n",
    "plt.grid(True)"
   ]
  },
  {
   "cell_type": "markdown",
   "metadata": {},
   "source": [
    ">It cannot be stated emphatically that the veterans influence the gun sales in the states. This is because the bars are not largely similar among all states. Some states have more veterans than gun sale and more states have more veterans than gun sales. "
   ]
  },
  {
   "cell_type": "markdown",
   "metadata": {},
   "source": [
    "### Research Question 4  \n",
    "### (What is the Race distribution in the States with highest Gun Purchases ?)"
   ]
  },
  {
   "cell_type": "code",
   "execution_count": null,
   "metadata": {},
   "outputs": [],
   "source": [
    "#Find state with the highest gun sale by sorting the values\n",
    "top_gun_states=df_merged.sort_values(by=['totals'])"
   ]
  },
  {
   "cell_type": "code",
   "execution_count": null,
   "metadata": {},
   "outputs": [],
   "source": [
    "#Confirming the name of the state\n",
    "top_gun_states"
   ]
  },
  {
   "cell_type": "code",
   "execution_count": null,
   "metadata": {},
   "outputs": [],
   "source": [
    "#Texas\n",
    "texas_values=top_gun_states.iloc[42,7:12]\n",
    "texas_labels=top_gun_states.columns[7:12]\n",
    "plt.pie(texas_values, labels=texas_labels,radius=2)\n",
    "plt.show()"
   ]
  },
  {
   "cell_type": "markdown",
   "metadata": {},
   "source": [
    ">The pie chart reveals a large percentage of the population of Texas is white followed by black_or_african_american and then asian."
   ]
  },
  {
   "cell_type": "markdown",
   "metadata": {},
   "source": [
    "<a id='conclusions'></a>\n",
    "## Conclusions\n",
    "\n",
    "> The FBI Gun Data has bee analysed to answer four questions. This was done in conjunction with the US Census Data. At the end of the project, we have been able to find the trend in gun sales in the US and also gained insight on per capita income and the gun sale distribution. \n",
    "\n",
    "> No statistical inferences have been made to explain the answers to the questions. \n",
    "\n",
    "> One limitation of this project is the fact that a huge chunk of the data had to be dropped to be able to continue with the analysis successfully. A considerable part of the data was non-essential.\n"
   ]
  }
 ],
 "metadata": {
  "kernelspec": {
   "display_name": "Python 3 (ipykernel)",
   "language": "python",
   "name": "python3"
  },
  "language_info": {
   "codemirror_mode": {
    "name": "ipython",
    "version": 3
   },
   "file_extension": ".py",
   "mimetype": "text/x-python",
   "name": "python",
   "nbconvert_exporter": "python",
   "pygments_lexer": "ipython3",
   "version": "3.9.7"
  }
 },
 "nbformat": 4,
 "nbformat_minor": 2
}
